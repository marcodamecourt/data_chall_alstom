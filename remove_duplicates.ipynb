{
 "cells": [
  {
   "cell_type": "code",
   "execution_count": 10,
   "metadata": {},
   "outputs": [],
   "source": [
    "import pandas as pd"
   ]
  },
  {
   "cell_type": "code",
   "execution_count": 18,
   "metadata": {},
   "outputs": [],
   "source": [
    "df = pd.read_csv('position_gps_des_stations_de_métro_copy.csv')"
   ]
  },
  {
   "cell_type": "code",
   "execution_count": 12,
   "metadata": {},
   "outputs": [],
   "source": [
    "df_cleaned = df.drop_duplicates(subset=\"Station\", keep=\"first\")"
   ]
  },
  {
   "cell_type": "code",
   "execution_count": 14,
   "metadata": {},
   "outputs": [],
   "source": [
    "df_cleaned = df_cleaned.reset_index(drop=True)"
   ]
  },
  {
   "cell_type": "code",
   "execution_count": 15,
   "metadata": {},
   "outputs": [
    {
     "data": {
      "text/html": [
       "<div>\n",
       "<style scoped>\n",
       "    .dataframe tbody tr th:only-of-type {\n",
       "        vertical-align: middle;\n",
       "    }\n",
       "\n",
       "    .dataframe tbody tr th {\n",
       "        vertical-align: top;\n",
       "    }\n",
       "\n",
       "    .dataframe thead th {\n",
       "        text-align: right;\n",
       "    }\n",
       "</style>\n",
       "<table border=\"1\" class=\"dataframe\">\n",
       "  <thead>\n",
       "    <tr style=\"text-align: right;\">\n",
       "      <th></th>\n",
       "      <th>Station</th>\n",
       "      <th>GPS</th>\n",
       "    </tr>\n",
       "  </thead>\n",
       "  <tbody>\n",
       "    <tr>\n",
       "      <th>0</th>\n",
       "      <td>Boucicaut</td>\n",
       "      <td>48.84109405724891, 2.287945766487378</td>\n",
       "    </tr>\n",
       "    <tr>\n",
       "      <th>1</th>\n",
       "      <td>Bourse</td>\n",
       "      <td>48.86865415183625, 2.3413760511435733</td>\n",
       "    </tr>\n",
       "    <tr>\n",
       "      <th>2</th>\n",
       "      <td>Bir-Hakeim</td>\n",
       "      <td>48.85394260621378, 2.2893345327788075</td>\n",
       "    </tr>\n",
       "    <tr>\n",
       "      <th>3</th>\n",
       "      <td>Argentine</td>\n",
       "      <td>48.87533684211653, 2.2901275088247015</td>\n",
       "    </tr>\n",
       "    <tr>\n",
       "      <th>4</th>\n",
       "      <td>Daumesnil</td>\n",
       "      <td>48.83954964556868, 2.3957032894363937</td>\n",
       "    </tr>\n",
       "    <tr>\n",
       "      <th>...</th>\n",
       "      <td>...</td>\n",
       "      <td>...</td>\n",
       "    </tr>\n",
       "    <tr>\n",
       "      <th>256</th>\n",
       "      <td>Église de Pantin</td>\n",
       "      <td>48.893149985759834, 2.412763044547627</td>\n",
       "    </tr>\n",
       "    <tr>\n",
       "      <th>257</th>\n",
       "      <td>Château d'Eau</td>\n",
       "      <td>48.87262083992817, 2.356153947450339</td>\n",
       "    </tr>\n",
       "    <tr>\n",
       "      <th>258</th>\n",
       "      <td>Guy Môquet</td>\n",
       "      <td>48.892206827747096, 2.3272198679191285</td>\n",
       "    </tr>\n",
       "    <tr>\n",
       "      <th>259</th>\n",
       "      <td>Monceau</td>\n",
       "      <td>48.88032518647405, 2.308773835955807</td>\n",
       "    </tr>\n",
       "    <tr>\n",
       "      <th>260</th>\n",
       "      <td>Rome</td>\n",
       "      <td>48.88233342370702, 2.3218017310631685</td>\n",
       "    </tr>\n",
       "  </tbody>\n",
       "</table>\n",
       "<p>261 rows × 2 columns</p>\n",
       "</div>"
      ],
      "text/plain": [
       "              Station                                     GPS\n",
       "0           Boucicaut    48.84109405724891, 2.287945766487378\n",
       "1              Bourse   48.86865415183625, 2.3413760511435733\n",
       "2          Bir-Hakeim   48.85394260621378, 2.2893345327788075\n",
       "3           Argentine   48.87533684211653, 2.2901275088247015\n",
       "4           Daumesnil   48.83954964556868, 2.3957032894363937\n",
       "..                ...                                     ...\n",
       "256  Église de Pantin   48.893149985759834, 2.412763044547627\n",
       "257     Château d'Eau    48.87262083992817, 2.356153947450339\n",
       "258        Guy Môquet  48.892206827747096, 2.3272198679191285\n",
       "259           Monceau    48.88032518647405, 2.308773835955807\n",
       "260              Rome   48.88233342370702, 2.3218017310631685\n",
       "\n",
       "[261 rows x 2 columns]"
      ]
     },
     "execution_count": 15,
     "metadata": {},
     "output_type": "execute_result"
    }
   ],
   "source": [
    "df_cleaned"
   ]
  },
  {
   "cell_type": "code",
   "execution_count": null,
   "metadata": {},
   "outputs": [],
   "source": [
    "df_cleaned.to_csv('position_gps_des_stations_de_métro_cleaned.csv',index=False)"
   ]
  }
 ],
 "metadata": {
  "kernelspec": {
   "display_name": "Python 3",
   "language": "python",
   "name": "python3"
  },
  "language_info": {
   "codemirror_mode": {
    "name": "ipython",
    "version": 3
   },
   "file_extension": ".py",
   "mimetype": "text/x-python",
   "name": "python",
   "nbconvert_exporter": "python",
   "pygments_lexer": "ipython3",
   "version": "3.8.10"
  }
 },
 "nbformat": 4,
 "nbformat_minor": 2
}
